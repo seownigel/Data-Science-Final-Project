{
 "cells": [
  {
   "cell_type": "code",
   "execution_count": null,
   "metadata": {
    "collapsed": true
   },
   "outputs": [],
   "source": [
    "from PIL import Image\n",
    "import os\n",
    "\n",
    "root_dir = \"/Users/Nigel/Desktop/Data Science Final Project/category/\"\n",
    "target_dir = \"/Users/Nigel/Desktop/Data Science Final Project/category/BMP Images\"\n",
    "image_paths = [\"17_Dresses\", \n",
    "               \"18_Tops\",\n",
    "               \"19_Skirts\",\n",
    "               \"20_Outerwear\",\n",
    "                \"21_Bottoms\", \n",
    "                \"585_One-Piece\", \n",
    "                \"Bodysuits\"]\n",
    "\n",
    "\n",
    "\n",
    "def create_new_bmp_file(filename, path):\n",
    "    name, sufix = filename.split(\".\")\n",
    "    \n",
    "    new_name = os.path.join(target_dir, path, name+\".bmp\")\n",
    "    new_img.save(new_name,\"bmp\")\n",
    "\n",
    "for path in image_paths[:1]:\n",
    "    real_path = os.path.join(root_dir, path)\n",
    "    filenames = os.listdir(real_path)\n",
    "    for filename in filenames:\n",
    "        if filename[0] != \".\":\n",
    "            print filename\n",
    "            file_real_path = os.path.join(real_path, filename)\n",
    "            img = Image.open(file_real_path)\n",
    "            new_img = img.resize( (100, 100) )\n",
    "            create_new_bmp_file(filename, path)"
   ]
  }
 ],
 "metadata": {
  "kernelspec": {
   "display_name": "Python 2",
   "language": "python",
   "name": "python2"
  },
  "language_info": {
   "codemirror_mode": {
    "name": "ipython",
    "version": 2
   },
   "file_extension": ".py",
   "mimetype": "text/x-python",
   "name": "python",
   "nbconvert_exporter": "python",
   "pygments_lexer": "ipython2",
   "version": "2.7.13"
  }
 },
 "nbformat": 4,
 "nbformat_minor": 2
}
