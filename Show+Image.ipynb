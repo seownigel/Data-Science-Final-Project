{
 "cells": [
  {
   "cell_type": "markdown",
   "metadata": {},
   "source": [
    "from PIL import Image                                                            \n",
    "import numpy as np\n",
    "import matplotlib.pyplot as plt\n",
    "                                                   \n",
    "i = Image.open ('/Users/Nigel/Desktop/Data Science Final Project/category/17_Dresses/16_0.jpg')\n",
    "iar = np.asarray(i)\n",
    "\n",
    "plt.imshow(iar)\n",
    "plt.show()\n",
    "\n",
    "from PIL import Image                                                            \n",
    "import numpy as np\n",
    "import matplotlib.pyplot as plt\n",
    "                                                   \n",
    "i = Image.open ('/Users/Nigel/Desktop/Data Science Final Project/category/17_Dresses/16_0.jpg')\n",
    "iar = np.asarray(i)\n",
    "\n",
    "print (iar)"
   ]
  }
 ],
 "metadata": {
  "kernelspec": {
   "display_name": "Python 2",
   "language": "python",
   "name": "python2"
  },
  "language_info": {
   "codemirror_mode": {
    "name": "ipython",
    "version": 2
   },
   "file_extension": ".py",
   "mimetype": "text/x-python",
   "name": "python",
   "nbconvert_exporter": "python",
   "pygments_lexer": "ipython2",
   "version": "2.7.13"
  }
 },
 "nbformat": 4,
 "nbformat_minor": 2
}
